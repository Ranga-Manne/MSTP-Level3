{
 "cells": [
  {
   "cell_type": "code",
   "execution_count": 1,
   "metadata": {},
   "outputs": [],
   "source": [
    "class Point:\n",
    "    def distfromOrig(self,x,y):\n",
    "        return (x*x+y*y)**.5"
   ]
  },
  {
   "cell_type": "code",
   "execution_count": 3,
   "metadata": {},
   "outputs": [
    {
     "data": {
      "text/plain": [
       "5.0"
      ]
     },
     "execution_count": 3,
     "metadata": {},
     "output_type": "execute_result"
    }
   ],
   "source": [
    "p=Point()\n",
    "p.distfromOrig(3,4)"
   ]
  },
  {
   "cell_type": "code",
   "execution_count": 27,
   "metadata": {},
   "outputs": [],
   "source": [
    "class Point:\n",
    "    def __init__(self,x=0,y=0):# pair of underscores\n",
    "        self.x=x\n",
    "        self.y=y\n",
    "    def distfromOrig(self):\n",
    "        return (self.x**2+self.y**2)**.5\n",
    "    def dist2points(self,x1,y1):\n",
    "        return ((x1-self.x)**2+(y1-self.y)**2)**.5\n",
    "    def midpoint(self,x1,y1):\n",
    "        return Point((x1+self.x)/2,(y1+self.y)/2)\n",
    "    def print_point(self):\n",
    "        print('({},{})'.format(self.x,self.y))"
   ]
  },
  {
   "cell_type": "code",
   "execution_count": 25,
   "metadata": {},
   "outputs": [
    {
     "name": "stdout",
     "output_type": "stream",
     "text": [
      "0 0\n"
     ]
    }
   ],
   "source": [
    "p1=Point()\n",
    "print(p1.x,p1.y)"
   ]
  },
  {
   "cell_type": "code",
   "execution_count": 28,
   "metadata": {},
   "outputs": [
    {
     "name": "stdout",
     "output_type": "stream",
     "text": [
      "3 4\n",
      "0.0\n",
      "5.0\n",
      "3.605551275463989\n",
      "(3.5,3.0)\n"
     ]
    }
   ],
   "source": [
    "p2=Point(3,4)\n",
    "print(p2.x,p2.y)\n",
    "print(p1.distfromOrig())\n",
    "print(p2.distfromOrig())\n",
    "print(p2.dist2points(1,1))\n",
    "mid=p2.midpoint(4,2)\n",
    "#print(mid.x,mid.y)\n",
    "mid.print_point()"
   ]
  },
  {
   "cell_type": "code",
   "execution_count": 61,
   "metadata": {},
   "outputs": [],
   "source": [
    "class sms_store:\n",
    "    def __init__(self):\n",
    "        self.sms=[]\n",
    "    def add_new(self,number,time,text):\n",
    "        #makes new SMS tuple,inserts it after other messages\n",
    "        #in the store when creating message,it's view_status is set to False\n",
    "        self.sms.append([number,time,text,False])\n",
    "    def message_count(self):\n",
    "        #return the no.of SMS in my_inbox\n",
    "        return len(self.sms)\n",
    "    def get_unread(self):\n",
    "        #return the list of indexsof all not-yet-view SMS\n",
    "        unread_index=[]\n",
    "        for msg in range(len(self.sms)):\n",
    "            if self.sms[msg][-1]==False:\n",
    "                unread_index.append(msg)\n",
    "        return unread_index\n",
    "    def get_message(self,i):\n",
    "        #return (number,time,text)\n",
    "        #also changes its state to 'has been viewed'\n",
    "        #if there is no message at position i,return None\n",
    "        self.sms[i][-1]=True\n",
    "        return self.sms[i][:-1]\n",
    "    def delete(self,i):\n",
    "        #delete the message at index i\n",
    "        self.sms.pop(i)\n",
    "    def clear(self):\n",
    "        #clear my_inbox\n",
    "        self.sms.clear()"
   ]
  },
  {
   "cell_type": "code",
   "execution_count": 62,
   "metadata": {},
   "outputs": [],
   "source": [
    "myInbox=sms_store()\n",
    "myInbox.add_new(9866944121,'8:30AM',\"Leguvu\")\n",
    "myInbox.add_new(8886520096,'8:30AM',\"Leguvu\")"
   ]
  },
  {
   "cell_type": "code",
   "execution_count": 73,
   "metadata": {},
   "outputs": [
    {
     "data": {
      "text/plain": [
       "[]"
      ]
     },
     "execution_count": 73,
     "metadata": {},
     "output_type": "execute_result"
    }
   ],
   "source": [
    "myInbox.sms"
   ]
  },
  {
   "cell_type": "code",
   "execution_count": 64,
   "metadata": {},
   "outputs": [
    {
     "data": {
      "text/plain": [
       "2"
      ]
     },
     "execution_count": 64,
     "metadata": {},
     "output_type": "execute_result"
    }
   ],
   "source": [
    "myInbox.message_count()"
   ]
  },
  {
   "cell_type": "code",
   "execution_count": 67,
   "metadata": {},
   "outputs": [],
   "source": [
    "myInbox.add_new(8886520096,'8:30AM',\"Leguvu\")"
   ]
  },
  {
   "cell_type": "code",
   "execution_count": 69,
   "metadata": {},
   "outputs": [
    {
     "data": {
      "text/plain": [
       "[0, 1, 2, 3]"
      ]
     },
     "execution_count": 69,
     "metadata": {},
     "output_type": "execute_result"
    }
   ],
   "source": [
    "myInbox.get_unread()"
   ]
  },
  {
   "cell_type": "code",
   "execution_count": 70,
   "metadata": {},
   "outputs": [
    {
     "data": {
      "text/plain": [
       "[9866944121, '8:30AM', 'Leguvu']"
      ]
     },
     "execution_count": 70,
     "metadata": {},
     "output_type": "execute_result"
    }
   ],
   "source": [
    "myInbox.get_message(0)"
   ]
  },
  {
   "cell_type": "code",
   "execution_count": 71,
   "metadata": {},
   "outputs": [],
   "source": [
    "myInbox.delete(2)"
   ]
  },
  {
   "cell_type": "code",
   "execution_count": 72,
   "metadata": {},
   "outputs": [],
   "source": [
    " myInbox.clear()"
   ]
  },
  {
   "cell_type": "markdown",
   "metadata": {},
   "source": [
    "### Regular Exoressions\n",
    "    . for Checking available data valid for us or not\n",
    "    . to extract the data\n",
    "### search method \n",
    "    . it search for given str pattren in given data\n",
    "    . it return the index of the str pattren\n",
    "### Syntax \n",
    "    . re.search(str_pat,str_data)"
   ]
  },
  {
   "cell_type": "code",
   "execution_count": 74,
   "metadata": {},
   "outputs": [],
   "source": [
    "import re"
   ]
  },
  {
   "cell_type": "code",
   "execution_count": 76,
   "metadata": {},
   "outputs": [
    {
     "name": "stdout",
     "output_type": "stream",
     "text": [
      "<re.Match object; span=(1, 2), match='y'>\n"
     ]
    }
   ],
   "source": [
    "name=\"Python Programing\"\n",
    "print(re.search(\"y\",name))"
   ]
  },
  {
   "cell_type": "code",
   "execution_count": null,
   "metadata": {},
   "outputs": [],
   "source": [
    "# print the names which contains \"u\" or \"l\" in their name by using regular expression\n",
    "names"
   ]
  }
 ],
 "metadata": {
  "kernelspec": {
   "display_name": "Python 3",
   "language": "python",
   "name": "python3"
  },
  "language_info": {
   "codemirror_mode": {
    "name": "ipython",
    "version": 3
   },
   "file_extension": ".py",
   "mimetype": "text/x-python",
   "name": "python",
   "nbconvert_exporter": "python",
   "pygments_lexer": "ipython3",
   "version": "3.7.4"
  }
 },
 "nbformat": 4,
 "nbformat_minor": 2
}
