{
 "cells": [
  {
   "cell_type": "code",
   "execution_count": 1,
   "metadata": {},
   "outputs": [
    {
     "name": "stdout",
     "output_type": "stream",
     "text": [
      "10\n",
      "mrr\n",
      "70\n"
     ]
    }
   ],
   "source": [
    "# here idn,marks,name are positional argument because they get values according to the position in fuction call\n",
    "def stu(idn,name,marks):\n",
    "    print(idn)\n",
    "    print(name)\n",
    "    print(marks)\n",
    "stu(10,\"mrr\",70)"
   ]
  },
  {
   "cell_type": "code",
   "execution_count": 2,
   "metadata": {},
   "outputs": [
    {
     "name": "stdout",
     "output_type": "stream",
     "text": [
      "mnsr\n",
      "80\n"
     ]
    }
   ],
   "source": [
    "# here 'per' is an default argment because in function defination we already given value\n",
    "#in function call if gets a value according to the postion automatically it will become postional argument \n",
    "#  it will print the given value ,\n",
    "#if not it will print it's default value which is assigned to it in function defination\n",
    "def stu1(name,per=80):\n",
    "    print(name)\n",
    "    print(per)\n",
    "stu1(\"mnsr\")"
   ]
  },
  {
   "cell_type": "code",
   "execution_count": 3,
   "metadata": {},
   "outputs": [
    {
     "name": "stdout",
     "output_type": "stream",
     "text": [
      "marks inside : 79\n"
     ]
    }
   ],
   "source": [
    "# non local is a keyword where it convert a local variable of a function to local variable of nested functions\n",
    "def student():\n",
    "    idn=2\n",
    "    name='sai'\n",
    "    marks=35\n",
    "    def teacher():\n",
    "        nonlocal marks\n",
    "        marks=79\n",
    "    teacher()\n",
    "    print(\"marks inside :\",marks)\n",
    "student()"
   ]
  },
  {
   "cell_type": "code",
   "execution_count": 5,
   "metadata": {},
   "outputs": [
    {
     "name": "stdout",
     "output_type": "stream",
     "text": [
      "5\n",
      "(10,)\n"
     ]
    },
    {
     "ename": "TypeError",
     "evalue": "unsupported operand type(s) for +: 'int' and 'tuple'",
     "output_type": "error",
     "traceback": [
      "\u001b[1;31m---------------------------------------------------------------------------\u001b[0m",
      "\u001b[1;31mTypeError\u001b[0m                                 Traceback (most recent call last)",
      "\u001b[1;32m<ipython-input-5-92981d8bd5ce>\u001b[0m in \u001b[0;36m<module>\u001b[1;34m\u001b[0m\n\u001b[0;32m      3\u001b[0m     \u001b[0mprint\u001b[0m\u001b[1;33m(\u001b[0m\u001b[0mb\u001b[0m\u001b[1;33m)\u001b[0m\u001b[1;33m\u001b[0m\u001b[1;33m\u001b[0m\u001b[0m\n\u001b[0;32m      4\u001b[0m     \u001b[0mprint\u001b[0m\u001b[1;33m(\u001b[0m\u001b[0ma\u001b[0m\u001b[1;33m+\u001b[0m\u001b[0mb\u001b[0m\u001b[1;33m)\u001b[0m\u001b[1;33m\u001b[0m\u001b[1;33m\u001b[0m\u001b[0m\n\u001b[1;32m----> 5\u001b[1;33m \u001b[0maddition\u001b[0m\u001b[1;33m(\u001b[0m\u001b[1;36m5\u001b[0m\u001b[1;33m,\u001b[0m\u001b[1;36m10\u001b[0m\u001b[1;33m)\u001b[0m\u001b[1;33m\u001b[0m\u001b[1;33m\u001b[0m\u001b[0m\n\u001b[0m",
      "\u001b[1;32m<ipython-input-5-92981d8bd5ce>\u001b[0m in \u001b[0;36maddition\u001b[1;34m(a, *b)\u001b[0m\n\u001b[0;32m      2\u001b[0m     \u001b[0mprint\u001b[0m\u001b[1;33m(\u001b[0m\u001b[0ma\u001b[0m\u001b[1;33m)\u001b[0m\u001b[1;33m\u001b[0m\u001b[1;33m\u001b[0m\u001b[0m\n\u001b[0;32m      3\u001b[0m     \u001b[0mprint\u001b[0m\u001b[1;33m(\u001b[0m\u001b[0mb\u001b[0m\u001b[1;33m)\u001b[0m\u001b[1;33m\u001b[0m\u001b[1;33m\u001b[0m\u001b[0m\n\u001b[1;32m----> 4\u001b[1;33m     \u001b[0mprint\u001b[0m\u001b[1;33m(\u001b[0m\u001b[0ma\u001b[0m\u001b[1;33m+\u001b[0m\u001b[0mb\u001b[0m\u001b[1;33m)\u001b[0m\u001b[1;33m\u001b[0m\u001b[1;33m\u001b[0m\u001b[0m\n\u001b[0m\u001b[0;32m      5\u001b[0m \u001b[0maddition\u001b[0m\u001b[1;33m(\u001b[0m\u001b[1;36m5\u001b[0m\u001b[1;33m,\u001b[0m\u001b[1;36m10\u001b[0m\u001b[1;33m)\u001b[0m\u001b[1;33m\u001b[0m\u001b[1;33m\u001b[0m\u001b[0m\n",
      "\u001b[1;31mTypeError\u001b[0m: unsupported operand type(s) for +: 'int' and 'tuple'"
     ]
    }
   ],
   "source": [
    "# here b is a variable length argument where in fuction call all other than postional arguments are assigned to 'b'\n",
    "def addition(a,*b):\n",
    "    print(a)\n",
    "    print(b)\n",
    "    print(a+b)\n",
    "addition(5,10)"
   ]
  },
  {
   "cell_type": "code",
   "execution_count": 6,
   "metadata": {},
   "outputs": [
    {
     "name": "stdout",
     "output_type": "stream",
     "text": [
      "<class 'dict'>\n",
      "name MNSR\n",
      "sub DS\n"
     ]
    }
   ],
   "source": [
    "# here a is keyword length argument where it should get dicitionary value from fuction call\n",
    "def addition(**a):\n",
    "    print(type(a))\n",
    "    for i,j in a.items():\n",
    "        print(i,j)\n",
    "addition(name='MNSR',sub='DS')"
   ]
  },
  {
   "cell_type": "markdown",
   "metadata": {},
   "source": [
    "# Exception Handling\n"
   ]
  },
  {
   "cell_type": "code",
   "execution_count": 8,
   "metadata": {},
   "outputs": [],
   "source": [
    "# in python  exception handling can be by using 3 blocks\n",
    "#1.try block\n",
    "#2. Except block\n",
    "#3. finally block\n",
    "\n",
    "# in try block you need to put the code which you think can throw a exception\n",
    "# in except in this you can write a block of code when a exception is thrown by the code in try block by mentioning the exception\n",
    "# if you didn't mention exception it will take it as default exception\n",
    "# for a try block you can write no.of except block by mentioning various exceptions ,in this case any block can be excuted based upon exception thrown by the code in try block"
   ]
  },
  {
   "cell_type": "code",
   "execution_count": 9,
   "metadata": {},
   "outputs": [
    {
     "name": "stdout",
     "output_type": "stream",
     "text": [
      "Enter a value :7\n",
      "Enter a value :8\n",
      "13\n"
     ]
    }
   ],
   "source": [
    "try:\n",
    "    a=input('Enter a value :')\n",
    "    b=5\n",
    "    c=a+b\n",
    "except:\n",
    "    a=int(input(\"Enter a value :\"))\n",
    "    print(a+b)"
   ]
  },
  {
   "cell_type": "code",
   "execution_count": null,
   "metadata": {},
   "outputs": [],
   "source": [
    "# in this i have written multiple except block by mentioning various exception and also a finally block\n",
    "# if the exception thrown by try block and the exception didn't handled then the finally block will be exceuted"
   ]
  },
  {
   "cell_type": "code",
   "execution_count": 11,
   "metadata": {},
   "outputs": [
    {
     "name": "stdout",
     "output_type": "stream",
     "text": [
      "enter a value :7\n",
      "enter a Value :8\n",
      "12\n",
      "56\n"
     ]
    }
   ],
   "source": [
    "try:\n",
    "    a=input(\"enter a value :\")\n",
    "    b=5\n",
    "    c=a+b\n",
    "except ValueError:\n",
    "    a=int(input(\"enter a Value :\"))\n",
    "    b=4\n",
    "    c=a+b\n",
    "    print(c)\n",
    "except TypeError:\n",
    "    a=int(input(\"enter a Value :\"))\n",
    "    b=4\n",
    "    c=a+b\n",
    "    print(c)\n",
    "finally:\n",
    "    e=7\n",
    "    f=8\n",
    "    g=e*f\n",
    "    print(g)"
   ]
  },
  {
   "cell_type": "code",
   "execution_count": null,
   "metadata": {},
   "outputs": [],
   "source": []
  }
 ],
 "metadata": {
  "kernelspec": {
   "display_name": "Python 3",
   "language": "python",
   "name": "python3"
  },
  "language_info": {
   "codemirror_mode": {
    "name": "ipython",
    "version": 3
   },
   "file_extension": ".py",
   "mimetype": "text/x-python",
   "name": "python",
   "nbconvert_exporter": "python",
   "pygments_lexer": "ipython3",
   "version": "3.7.4"
  }
 },
 "nbformat": 4,
 "nbformat_minor": 2
}
